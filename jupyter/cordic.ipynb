{
 "cells": [
  {
   "cell_type": "code",
   "execution_count": 113,
   "metadata": {
    "scrolled": true
   },
   "outputs": [],
   "source": [
    "from pynq import Overlay\n",
    "\n",
    "import struct\n",
    "import binascii\n",
    "\n",
    "import random   \n",
    "import cmath\n",
    "import numpy as np\n",
    "\n",
    "import matplotlib.pyplot as plt"
   ]
  },
  {
   "cell_type": "code",
   "execution_count": 114,
   "metadata": {},
   "outputs": [],
   "source": [
    "X_ADDRESS = 0x10\n",
    "Y_ADDRESS = 0x18\n",
    "R_ADDRESS = 0x20\n",
    "THETA_ADDRESS = 0x30"
   ]
  },
  {
   "cell_type": "code",
   "execution_count": 115,
   "metadata": {},
   "outputs": [],
   "source": [
    "ol = Overlay('./cordic.bit')"
   ]
  },
  {
   "cell_type": "code",
   "execution_count": 116,
   "metadata": {},
   "outputs": [],
   "source": [
    "cart2pol_ip = ol.cordiccart2pol_0"
   ]
  },
  {
   "cell_type": "code",
   "execution_count": 117,
   "metadata": {},
   "outputs": [
    {
     "name": "stdout",
     "output_type": "stream",
     "text": [
      "(0.6909164493627287, -0.4148884123756094)\n"
     ]
    }
   ],
   "source": [
    "x=0.6323\n",
    "y=-0.2785\n",
    "print(cmath.polar(complex(x,y)))"
   ]
  },
  {
   "cell_type": "code",
   "execution_count": 118,
   "metadata": {},
   "outputs": [],
   "source": [
    "x=(struct.unpack('<I', struct.pack('<f', x))[0])\n",
    "y=(struct.unpack('<I', struct.pack('<f', y))[0])"
   ]
  },
  {
   "cell_type": "code",
   "execution_count": 119,
   "metadata": {},
   "outputs": [
    {
     "name": "stdout",
     "output_type": "stream",
     "text": [
      "1059184234 3197015949\n"
     ]
    }
   ],
   "source": [
    "print(x,y)"
   ]
  },
  {
   "cell_type": "code",
   "execution_count": 120,
   "metadata": {},
   "outputs": [],
   "source": [
    "cart2pol_ip.write(X_ADDRESS,x)\n",
    "cart2pol_ip.write(Y_ADDRESS,y)"
   ]
  },
  {
   "cell_type": "code",
   "execution_count": 146,
   "metadata": {},
   "outputs": [],
   "source": [
    "r=cart2pol_ip.read(R_ADDRESS)\n",
    "theta=cart2pol_ip.read(THETA_ADDRESS)"
   ]
  },
  {
   "cell_type": "code",
   "execution_count": 147,
   "metadata": {
    "scrolled": true
   },
   "outputs": [
    {
     "name": "stdout",
     "output_type": "stream",
     "text": [
      "1060067226 3218115743\n"
     ]
    }
   ],
   "source": [
    "print(r,theta)"
   ]
  },
  {
   "cell_type": "code",
   "execution_count": 148,
   "metadata": {},
   "outputs": [],
   "source": [
    "r = (struct.unpack('<f', struct.pack('<I', r))[0])\n",
    "theta = (struct.unpack('<f', struct.pack('<I', theta))[0])"
   ]
  },
  {
   "cell_type": "code",
   "execution_count": 149,
   "metadata": {
    "scrolled": true
   },
   "outputs": [
    {
     "name": "stdout",
     "output_type": "stream",
     "text": [
      "0.6849304437637329 -1.6292914152145386\n"
     ]
    }
   ],
   "source": [
    "print(r,theta)"
   ]
  },
  {
   "cell_type": "code",
   "execution_count": 154,
   "metadata": {},
   "outputs": [],
   "source": [
    "def cart2pol(x, y):\n",
    "    \n",
    "    # 数据类型转换\n",
    "    x = (struct.unpack('<I', struct.pack('<f', x))[0])\n",
    "    y = (struct.unpack('<I', struct.pack('<f', y))[0])\n",
    "    \n",
    "    # 写入直角坐标\n",
    "    cart2pol_ip.write(X_ADDRESS,x)\n",
    "    cart2pol_ip.write(Y_ADDRESS,y)\n",
    "    \n",
    "    # 返回极坐标\n",
    "    r = cart2pol_ip.read(R_ADDRESS)\n",
    "    theta = cart2pol_ip.read(THETA_ADDRESS)\n",
    "    \n",
    "    #数据类型转换\n",
    "    \n",
    "    r = (struct.unpack('<f', struct.pack('<I', r))[0])\n",
    "    theta = (struct.unpack('<f', struct.pack('<I', theta))[0])\n",
    "        \n",
    "    return r, theta"
   ]
  },
  {
   "cell_type": "code",
   "execution_count": 155,
   "metadata": {},
   "outputs": [],
   "source": [
    "x=0.6323\n",
    "y=-0.2785"
   ]
  },
  {
   "cell_type": "code",
   "execution_count": 156,
   "metadata": {},
   "outputs": [],
   "source": [
    " r, theta = cart2pol(x, y)"
   ]
  },
  {
   "cell_type": "code",
   "execution_count": 157,
   "metadata": {},
   "outputs": [
    {
     "name": "stdout",
     "output_type": "stream",
     "text": [
      "0.6906288266181946 -0.41488680243492126\n"
     ]
    }
   ],
   "source": [
    "print(r,theta)"
   ]
  },
  {
   "cell_type": "markdown",
   "metadata": {},
   "source": [
    "## 测试"
   ]
  },
  {
   "cell_type": "code",
   "execution_count": 158,
   "metadata": {},
   "outputs": [],
   "source": [
    "NUM_SAMPLES = 50\n",
    "\n",
    "r_actual = np.zeros(NUM_SAMPLES)\n",
    "theta_actual = np.zeros(NUM_SAMPLES)\n",
    "r_predicted = np.zeros(NUM_SAMPLES)\n",
    "theta_predicted = np.zeros(NUM_SAMPLES)"
   ]
  },
  {
   "cell_type": "code",
   "execution_count": 159,
   "metadata": {
    "scrolled": false
   },
   "outputs": [
    {
     "name": "stdout",
     "output_type": "stream",
     "text": [
      "1.2116024209013692 1.2110978364944458 2.3831394969778925 2.3831241130828857\n",
      "0.44634790387373624 0.4461619555950165 1.6311906989684806 1.6311835050582886\n",
      "0.9398463843467882 0.9394548535346985 1.5240344683444014 1.5240200757980347\n",
      "0.36625036548810963 0.3660978376865387 1.8916811507837714 1.891672968864441\n",
      "0.7304800674124599 0.730175793170929 1.3588935331289655 1.3589054346084595\n",
      "0.77770245496931 0.777378499507904 0.9167947765230071 0.9167799949645996\n",
      "0.5429407198857559 0.5427146553993225 2.93794853314092 2.937941312789917\n",
      "0.6864813143843325 0.6861952543258667 1.0921234795668333 1.092147946357727\n",
      "0.6966688350843476 0.6963785290718079 -2.3337282610837193 -2.3337204456329346\n",
      "0.880153889313723 0.8797872066497803 -1.0303342132776834 -1.0303395986557007\n",
      "0.7697959608045644 0.7694752216339111 -2.252299166027658 -2.2522761821746826\n",
      "0.5878196470361717 0.58757483959198 -2.2417650563950016 -2.241778612136841\n",
      "1.2350178377851395 1.2345036268234253 -2.2991012652742446 -2.2991316318511963\n",
      "0.2690034062061579 0.2688913643360138 -0.648594599315547 -0.6485843062400818\n",
      "0.2451937876258752 0.24509166181087494 0.2554898471680474 0.25546732544898987\n",
      "1.15227057037783 1.1517906188964844 0.9461841881975948 0.946181058883667\n",
      "0.8047350811963961 0.8043997883796692 -1.3862196736524584 -1.386231780052185\n",
      "1.0564901317224684 1.056050181388855 2.099247738279133 2.099231004714966\n",
      "0.5275041182800355 0.5272844433784485 1.8077586530808734 1.8077701330184937\n",
      "0.6926166350633791 0.6923282146453857 -2.7959760077104945 -2.7959582805633545\n",
      "0.33243599955790976 0.33229753375053406 2.345492472267421 2.3454997539520264\n",
      "0.2876336069844748 0.28751376271247864 -0.15231621718988417 -0.15234069526195526\n",
      "1.2433392233383218 1.242821455001831 2.3073471921749635 2.3073713779449463\n",
      "0.5661908845818726 0.5659551024436951 0.20522685966420023 0.2052382379770279\n",
      "0.7111514950722148 0.7108553051948547 2.3879244442318077 2.3879458904266357\n",
      "1.1410469141750443 1.1405715942382812 0.9260473514298805 0.9260573387145996\n",
      "0.7208325960440591 0.7205324769020081 -1.850201420950872 -1.850171685218811\n",
      "0.5408231218681363 0.5405977964401245 2.453759201765765 2.4537651538848877\n",
      "0.7079142922707872 0.7076193690299988 -0.1256718625687913 -0.12568582594394684\n",
      "1.2134745786049723 1.2129690647125244 -0.9189373506045554 -0.9189162254333496\n",
      "0.8435453123954797 0.8431939482688904 0.48520844558172815 0.48517924547195435\n",
      "0.1293995949583897 0.12934568524360657 1.385085706647038 1.3850723505020142\n",
      "0.4143475420741676 0.4141749441623688 -0.82959575374319 -0.8295831680297852\n",
      "0.6111769936487462 0.6109223365783691 -0.7693148797431072 -0.7693325877189636\n",
      "0.3090162337769322 0.3088875710964203 -0.33394629186354635 -0.33397677540779114\n",
      "1.0468440628065943 1.0464080572128296 2.797863429747826 2.7978503704071045\n",
      "0.938895628578486 0.9385045766830444 0.515726403710197 0.5157400965690613\n",
      "0.7819197555323419 0.7815940380096436 -2.0456597991116308 -2.0456607341766357\n",
      "0.21570029821196254 0.21561045944690704 -3.0977162847102333 -3.0977442264556885\n",
      "0.7074020594072938 0.707107424736023 2.506167714854155 2.5061914920806885\n",
      "0.3519962458697384 0.35184967517852783 -1.1169416466570228 -1.116925597190857\n",
      "0.6984754139144975 0.6981845498085022 2.9278788739634907 2.927870512008667\n",
      "1.1126510609334102 1.1121877431869507 1.091725905022436 1.091720700263977\n",
      "0.06014023020764468 0.06011518836021423 -0.7423723671714243 -0.7423729300498962\n",
      "1.0160741840356002 1.015650987625122 1.2555485860653126 1.2555350065231323\n",
      "0.7684536721177504 0.7681335806846619 -2.4375512728199618 -2.437546968460083\n",
      "0.7147073689562253 0.7144097685813904 0.89917659097544 0.8992040157318115\n",
      "0.1517979904615809 0.15173475444316864 2.068147119385482 2.0681211948394775\n",
      "0.8446137506518137 0.8442620038986206 -3.0684164606757953 -3.0683887004852295\n",
      "0.7159447363254537 0.7156465649604797 0.9906984285816925 0.9906728267669678\n"
     ]
    }
   ],
   "source": [
    "for i in range(NUM_SAMPLES):\n",
    "    x = random.uniform(-1,1)\n",
    "    y = random.uniform(-1,1)\n",
    "     \n",
    "    r_actual[i], theta_actual[i] = cmath.polar(complex(x,y))\n",
    "    r_predicted[i], theta_predicted[i] = cart2pol(x, y)\n",
    "    print(r_actual[i], r_predicted[i], theta_actual[i], theta_predicted[i])"
   ]
  },
  {
   "cell_type": "code",
   "execution_count": 160,
   "metadata": {},
   "outputs": [],
   "source": [
    "r_diff=np.subtract(r_actual,r_predicted)\n",
    "r_square=np.square(r_diff)\n",
    "r_mse=r_square.mean()\n",
    "r_rmse=np.sqrt(r_mse)"
   ]
  },
  {
   "cell_type": "code",
   "execution_count": 161,
   "metadata": {},
   "outputs": [],
   "source": [
    "theta_diff=np.subtract(theta_actual,theta_predicted)\n",
    "theta_square=np.square(theta_diff)\n",
    "theta_mse=theta_square.mean()\n",
    "theta_rmse=np.sqrt(theta_mse)"
   ]
  },
  {
   "cell_type": "code",
   "execution_count": 162,
   "metadata": {},
   "outputs": [
    {
     "name": "stdout",
     "output_type": "stream",
     "text": [
      "Radius RMSE:  0.00031549429510718363 Theta RMSE: 1.7790896036795567e-05\n",
      "PASS\n"
     ]
    }
   ],
   "source": [
    "print(\"Radius RMSE: \", r_rmse, \"Theta RMSE:\", theta_rmse)    \n",
    "if r_rmse<0.001 and theta_rmse<0.001:\n",
    "    print(\"PASS\")\n",
    "else:\n",
    "    print(\"FAIL\")"
   ]
  },
  {
   "cell_type": "code",
   "execution_count": 163,
   "metadata": {
    "scrolled": true
   },
   "outputs": [
    {
     "data": {
      "image/png": "[encoded data removed]",
      "text/plain": [
       "<Figure size 720x360 with 2 Axes>"
      ]
     },
     "metadata": {
      "needs_background": "light"
     },
     "output_type": "display_data"
    }
   ],
   "source": [
    "ind=np.arange(NUM_SAMPLES)\n",
    "plt.figure(figsize=(10, 5))\n",
    "plt.subplot(1,2,1)\n",
    "plt.bar(ind,abs(r_diff))\n",
    "plt.title(\"Radius Error\")\n",
    "plt.xlabel(\"Index\")\n",
    "plt.ylabel(\"Error\")\n",
    "#plt.xticks(ind)\n",
    "plt.tight_layout()\n",
    "\n",
    "plt.subplot(1,2,2)\n",
    "plt.bar(ind,abs(theta_diff))\n",
    "plt.title(\"Theta Error\")\n",
    "plt.xlabel(\"Index\")\n",
    "plt.ylabel(\"Error\")\n",
    "#plt.xticks(ind)\n",
    "plt.tight_layout()"
   ]
  },
  {
   "cell_type": "code",
   "execution_count": null,
   "metadata": {},
   "outputs": [],
   "source": []
  }
 ],
 "metadata": {
  "kernelspec": {
   "display_name": "Python 3",
   "language": "python",
   "name": "python3"
  },
  "language_info": {
   "codemirror_mode": {
    "name": "ipython",
    "version": 3
   },
   "file_extension": ".py",
   "mimetype": "text/x-python",
   "name": "python",
   "nbconvert_exporter": "python",
   "pygments_lexer": "ipython3",
   "version": "3.8.2"
  }
 },
 "nbformat": 4,
 "nbformat_minor": 2
}
