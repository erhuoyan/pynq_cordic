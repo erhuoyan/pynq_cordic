{
 "cells": [
  {
   "cell_type": "code",
   "execution_count": 1,
   "metadata": {
    "scrolled": true
   },
   "outputs": [
    {
     "data": {
      "application/javascript": "\nrequire(['notebook/js/codecell'], function(codecell) {\n  codecell.CodeCell.options_default.highlight_modes[\n      'magic_text/x-csrc'] = {'reg':[/^%%microblaze/]};\n  Jupyter.notebook.events.one('kernel_ready.Kernel', function(){\n      Jupyter.notebook.get_cells().map(function(cell){\n          if (cell.cell_type == 'code'){ cell.auto_highlight(); } }) ;\n  });\n});\n"
     },
     "metadata": {},
     "output_type": "display_data"
    }
   ],
   "source": [
    "from pynq import Overlay\n",
    "\n",
    "import struct\n",
    "import binascii\n",
    "\n",
    "X_ADDRESS = 0x10\n",
    "Y_ADDRESS = 0x18\n",
    "R_ADDRESS = 0x20\n",
    "THETA_ADDRESS = 0x30"
   ]
  },
  {
   "cell_type": "code",
   "execution_count": 2,
   "metadata": {},
   "outputs": [],
   "source": [
    "ol = Overlay('./design_1.bit')"
   ]
  },
  {
   "cell_type": "code",
   "execution_count": 3,
   "metadata": {},
   "outputs": [],
   "source": [
    "cart2pol_ip = ol.cordiccart2pol_0"
   ]
  },
  {
   "cell_type": "code",
   "execution_count": 4,
   "metadata": {},
   "outputs": [],
   "source": [
    "x=0.6323\n",
    "y=-0.2785"
   ]
  },
  {
   "cell_type": "code",
   "execution_count": 5,
   "metadata": {},
   "outputs": [],
   "source": [
    "x=(struct.unpack('<I', struct.pack('<f', x))[0])\n",
    "y=(struct.unpack('<I', struct.pack('<f', y))[0])"
   ]
  },
  {
   "cell_type": "code",
   "execution_count": 6,
   "metadata": {},
   "outputs": [],
   "source": [
    "cart2pol_ip.write(X_ADDRESS,x)\n",
    "cart2pol_ip.write(Y_ADDRESS,y)"
   ]
  },
  {
   "cell_type": "code",
   "execution_count": 7,
   "metadata": {},
   "outputs": [],
   "source": [
    "r=hex(cart2pol_ip.read(R_ADDRESS))                     \n",
    "r=r[2:]\n",
    "theta=hex(cart2pol_ip.read(THETA_ADDRESS))\n",
    "theta=theta[2:]"
   ]
  },
  {
   "cell_type": "code",
   "execution_count": 8,
   "metadata": {},
   "outputs": [],
   "source": [
    "if r!=0:\n",
    "    r=struct.unpack('>f', binascii.unhexlify(r))\n",
    "    r=r[0]\n",
    "if theta!=0:\n",
    "    theta=struct.unpack('>f', binascii.unhexlify(theta))\n",
    "    theta=theta[0]"
   ]
  },
  {
   "cell_type": "code",
   "execution_count": 9,
   "metadata": {},
   "outputs": [
    {
     "name": "stdout",
     "output_type": "stream",
     "text": [
      "0.6906288266181946 -0.41488680243492126\n"
     ]
    }
   ],
   "source": [
    "print(r,theta)"
   ]
  },
  {
   "cell_type": "code",
   "execution_count": 10,
   "metadata": {},
   "outputs": [],
   "source": [
    "def cart2pol(x, y):\n",
    "    # 数据类型转换\n",
    "    x=(struct.unpack('<I', struct.pack('<f', x))[0])\n",
    "    y=(struct.unpack('<I', struct.pack('<f', y))[0])\n",
    "    \n",
    "    cart2pol_ip.write(X_ADDRESS,x)\n",
    "    cart2pol_ip.write(Y_ADDRESS,y)\n",
    "    \n",
    "    r=hex(cart2pol_ip.read(R_ADDRESS))                     \n",
    "    r=r[2:]\n",
    "    theta=hex(cart2pol_ip.read(THETA_ADDRESS))\n",
    "    theta=theta[2:]\n",
    "    \n",
    "    if r!=0:\n",
    "        r=struct.unpack('>f', binascii.unhexlify(r))\n",
    "        r=r[0]\n",
    "    if theta!=0:\n",
    "        theta=struct.unpack('>f', binascii.unhexlify(theta))\n",
    "        theta=theta[0]\n",
    "        \n",
    "    return r, theta"
   ]
  },
  {
   "cell_type": "code",
   "execution_count": 11,
   "metadata": {},
   "outputs": [],
   "source": [
    "x=0.6323\n",
    "y=-0.2785"
   ]
  },
  {
   "cell_type": "code",
   "execution_count": 12,
   "metadata": {},
   "outputs": [],
   "source": [
    " r, theta = cart2pol(x, y)"
   ]
  },
  {
   "cell_type": "code",
   "execution_count": 13,
   "metadata": {},
   "outputs": [
    {
     "name": "stdout",
     "output_type": "stream",
     "text": [
      "0.6906288266181946 -0.41488680243492126\n"
     ]
    }
   ],
   "source": [
    "print(r,theta)"
   ]
  },
  {
   "cell_type": "markdown",
   "metadata": {},
   "source": [
    "## 测试"
   ]
  },
  {
   "cell_type": "code",
   "execution_count": 14,
   "metadata": {},
   "outputs": [],
   "source": [
    "import random   \n",
    "import cmath\n",
    "import numpy as np"
   ]
  },
  {
   "cell_type": "code",
   "execution_count": 15,
   "metadata": {},
   "outputs": [],
   "source": [
    "NUM_SAMPLES = 50\n",
    "\n",
    "r_actual = np.zeros(NUM_SAMPLES)\n",
    "theta_actual = np.zeros(NUM_SAMPLES)\n",
    "r_predicted = np.zeros(NUM_SAMPLES)\n",
    "theta_predicted = np.zeros(NUM_SAMPLES)"
   ]
  },
  {
   "cell_type": "code",
   "execution_count": 16,
   "metadata": {
    "scrolled": false
   },
   "outputs": [
    {
     "name": "stdout",
     "output_type": "stream",
     "text": [
      "1.20941060369 1.20890676975 2.4267984384 2.4268052578\n",
      "0.984018364106 0.983608365059 0.261619026299 0.261631816626\n",
      "1.02690886724 1.02648115158 -1.14214411134 -1.14211595058\n",
      "0.717535617387 0.717236757278 -2.05931219434 -2.05933260918\n",
      "0.36045536204 0.360305249691 2.08393332979 2.08391165733\n",
      "0.908479326211 0.908100903034 -0.0200306796316 -0.0200455170125\n",
      "0.423030888701 0.422854691744 -0.213634906992 -0.213661059737\n",
      "0.599937273005 0.59968739748 0.336991179997 0.336967498064\n",
      "0.663485777399 0.663209378719 0.426006469434 0.425995141268\n",
      "0.993904693252 0.993490815163 -1.61427917724 -1.61427915096\n",
      "0.271239177314 0.271126180887 -1.15176575399 -1.15175926685\n",
      "0.515553058872 0.515338361263 1.65827347014 1.65827691555\n",
      "1.01889039426 1.018466115 -0.923992285399 -0.923982143402\n",
      "0.854648768421 0.854292809963 0.0356051357132 0.0356091596186\n",
      "0.616202568335 0.615945875645 -0.150770151939 -0.150753781199\n",
      "0.648433053611 0.648163080215 -2.70101776794 -2.70101046562\n",
      "0.738475977924 0.738168358803 1.41090701863 1.41088759899\n",
      "1.17034934846 1.16986179352 -0.613207868619 -0.613201797009\n",
      "0.565063836927 0.564828455448 0.749229409173 0.74920886755\n",
      "0.808889570707 0.8085526824 -1.53478098676 -1.53475987911\n",
      "0.924022620156 0.923637747765 -2.20943953307 -2.20943236351\n",
      "1.14578679771 1.14530944824 2.39005377875 2.39006447792\n",
      "0.457156236399 0.4569658041 -1.19797359989 -1.19800388813\n",
      "0.683288616665 0.68300396204 -2.14698710751 -2.14701390266\n",
      "1.08452354353 1.08407187462 -2.20185443528 -2.20186400414\n",
      "0.505584746368 0.505374193192 -0.0808237869483 -0.0808278545737\n",
      "0.881676670189 0.881309449673 -1.08821874553 -1.08824169636\n",
      "1.02787928243 1.02745103836 2.14326505221 2.14329075813\n",
      "0.516718444288 0.516503214836 0.4621317021 0.462110280991\n",
      "1.1719813866 1.17149317265 -0.553896880964 -0.553884208202\n",
      "0.513715655293 0.513501644135 -0.13543390012 -0.135451421142\n",
      "1.06279748439 1.06235468388 -2.57295549126 -2.57294344902\n",
      "0.279095382773 0.278979122639 0.887630594577 0.887607693672\n",
      "0.95422454445 0.953827023506 1.49577989051 1.49576103687\n",
      "0.661407018396 0.661131441593 1.50424584229 1.50424492359\n",
      "1.02240866083 1.02198290825 2.61115460675 2.61114382744\n",
      "0.971615018855 0.971210360527 -0.500054980557 -0.500071525574\n",
      "0.692944481048 0.692655920982 -1.97951238586 -1.97952079773\n",
      "0.308921730851 0.308793097734 2.78214055694 2.7821662426\n",
      "0.433762367647 0.433581650257 -1.91164077162 -1.91166996956\n",
      "0.795399920859 0.795068502426 0.20131437543 0.201331987977\n",
      "1.06882971837 1.06838452816 -0.438536966645 -0.438507050276\n",
      "0.845928920367 0.845576405525 -0.685501900979 -0.685508072376\n",
      "0.340205634896 0.340063929558 0.0276456665983 0.0276748705655\n",
      "0.8875203259 0.887150704861 -2.76068704375 -2.76069998741\n",
      "0.596872576039 0.596623957157 1.43815077395 1.43815267086\n",
      "0.492499807004 0.492294698954 -3.09477178814 -3.09475541115\n",
      "0.780174737524 0.779849588871 0.884952220029 0.884922146797\n",
      "1.06136979547 1.06092786789 2.28100719219 2.28100609779\n",
      "1.00332008944 1.00290203094 -1.07924064834 -1.07926976681\n"
     ]
    }
   ],
   "source": [
    "for i in range(NUM_SAMPLES):\n",
    "    x = random.uniform(-1,1)\n",
    "    y = random.uniform(-1,1)\n",
    "    \n",
    "    cn = complex(x,y)\n",
    "    r_actual[i], theta_actual[i] = cmath.polar(cn)\n",
    "    r_predicted[i], theta_predicted[i] = cart2pol(x, y)\n",
    "    print(r_actual[i], r_predicted[i], theta_actual[i], theta_predicted[i])"
   ]
  },
  {
   "cell_type": "code",
   "execution_count": 17,
   "metadata": {},
   "outputs": [],
   "source": [
    "r_diff=np.subtract(r_actual,r_predicted)\n",
    "r_square=np.square(r_diff)\n",
    "r_mse=r_square.mean()\n",
    "r_rmse=np.sqrt(r_mse)"
   ]
  },
  {
   "cell_type": "code",
   "execution_count": 18,
   "metadata": {},
   "outputs": [],
   "source": [
    "theta_diff=np.subtract(theta_actual,theta_predicted)\n",
    "theta_square=np.square(theta_diff)\n",
    "theta_mse=theta_square.mean()\n",
    "theta_rmse=np.sqrt(theta_mse)"
   ]
  },
  {
   "cell_type": "code",
   "execution_count": 19,
   "metadata": {},
   "outputs": [
    {
     "name": "stdout",
     "output_type": "stream",
     "text": [
      "Radius RMSE:  0.000337246800471 Theta RMSE: 1.82042317846e-05\n",
      "PASS\n"
     ]
    }
   ],
   "source": [
    "print(\"Radius RMSE: \", r_rmse, \"Theta RMSE:\", theta_rmse)    \n",
    "if r_rmse<0.001 and theta_rmse<0.001:\n",
    "    print(\"PASS\")\n",
    "else:\n",
    "    print(\"FAIL\")"
   ]
  },
  {
   "cell_type": "code",
   "execution_count": 20,
   "metadata": {},
   "outputs": [],
   "source": [
    "import matplotlib.pyplot as plt"
   ]
  },
  {
   "cell_type": "code",
   "execution_count": 21,
   "metadata": {
    "scrolled": true
   },
   "outputs": [
    {
     "data": {
      "image/png": "[encoded data removed]",
      "text/plain": [
       "<matplotlib.figure.Figure at 0xaf329dd0>"
      ]
     },
     "metadata": {},
     "output_type": "display_data"
    }
   ],
   "source": [
    "ind=np.arange(NUM_SAMPLES)\n",
    "plt.figure(figsize=(10, 5))\n",
    "plt.subplot(1,2,1)\n",
    "plt.bar(ind,abs(r_diff))\n",
    "plt.title(\"Radius Error\")\n",
    "plt.xlabel(\"Index\")\n",
    "plt.ylabel(\"Error\")\n",
    "#plt.xticks(ind)\n",
    "plt.tight_layout()\n",
    "\n",
    "plt.subplot(1,2,2)\n",
    "plt.bar(ind,abs(theta_diff))\n",
    "plt.title(\"Theta Error\")\n",
    "plt.xlabel(\"Index\")\n",
    "plt.ylabel(\"Error\")\n",
    "#plt.xticks(ind)\n",
    "plt.tight_layout()"
   ]
  },
  {
   "cell_type": "code",
   "execution_count": null,
   "metadata": {},
   "outputs": [],
   "source": []
  }
 ],
 "metadata": {
  "kernelspec": {
   "display_name": "Python 3",
   "language": "python",
   "name": "python3"
  },
  "language_info": {
   "codemirror_mode": {
    "name": "ipython",
    "version": 3
   },
   "file_extension": ".py",
   "mimetype": "text/x-python",
   "name": "python",
   "nbconvert_exporter": "python",
   "pygments_lexer": "ipython3",
   "version": "3.6.5"
  }
 },
 "nbformat": 4,
 "nbformat_minor": 2
}
